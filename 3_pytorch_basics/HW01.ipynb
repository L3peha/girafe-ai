{
  "cells": [
    {
      "cell_type": "markdown",
      "metadata": {
        "id": "Pdx814rlHWfy"
      },
      "source": [
        "## Домашнее задание №1"
      ]
    },
    {
      "cell_type": "code",
      "execution_count": 9,
      "metadata": {
        "id": "Q0MFmAexHWf2"
      },
      "outputs": [],
      "source": [
        "import numpy as np\n",
        "import json\n",
        "import re"
      ]
    },
    {
      "cell_type": "markdown",
      "metadata": {
        "id": "XnIKBzAmHWf3"
      },
      "source": [
        "### Задача № 1\n",
        "Импортируйте `torch` и сохраните его версию в переменную version"
      ]
    },
    {
      "cell_type": "code",
      "execution_count": 10,
      "metadata": {
        "id": "ya5V5gC3HWf4"
      },
      "outputs": [],
      "source": [
        "# Import torch and save its version into the corresponding variable\n",
        "import numpy as np\n",
        "import torch\n",
        "from torch import nn\n",
        "# your code here\n",
        "version =  torch.__version__# your code here\n",
        "\n",
        "# do not change the code in the block below\n",
        "# __________start of block__________\n",
        "assert version is not None, 'Please, save torch version'\n",
        "major_version, minor_version = re.findall(\"\\d+\\.\\d+\", version)[0].split('.')\n",
        "assert float(major_version) >= 2 or (float(major_version) >= 1 and float(minor_version) >= 7), 'Please, update PyTorch'\n",
        "# __________end of block__________"
      ]
    },
    {
      "cell_type": "markdown",
      "metadata": {
        "id": "lygfBoIQHWf4"
      },
      "source": [
        "Теперь импортируйте модуль `nn` и внутри функции `create_model` постройте нейронную сеть из трех линейных слоев, последовательно отображающих данные в промежуточные (скрытые) представления размерностей 256, 16 и 10. Не забывайте о свободном члене (bias).\n",
        "\n",
        "Исходные данные имеют размерность 784. В качестве функций активации используйте ReLU."
      ]
    },
    {
      "cell_type": "code",
      "execution_count": 11,
      "metadata": {
        "id": "pzeM3RJVHWf5"
      },
      "outputs": [],
      "source": [
        "def create_model():\n",
        "    # Linear layer mapping from 784 features, so it should be 784->256->16->10\n",
        "\n",
        "    # your code here\n",
        "    model = nn.Sequential(\n",
        "          nn.Linear(784, 256, bias = True),\n",
        "          nn.ReLU(),\n",
        "          nn.Linear(256, 16, bias = True),\n",
        "          nn.ReLU(),\n",
        "          nn.Linear(16, 10, bias = True) )\n",
        "    # return model instance (None is just a placeholder)\n",
        "\n",
        "    return model\n",
        "\n",
        "\n",
        "model = create_model()\n",
        "# do not change the code in the block below\n",
        "# __________start of block__________\n",
        "for param in model.parameters():\n",
        "    nn.init.constant_(param, 1.)\n",
        "\n",
        "assert torch.allclose(model(torch.ones((1, 784))), torch.ones((1, 10)) * 3215377.), 'Check the network structure'\n",
        "\n",
        "# __________end of block__________"
      ]
    },
    {
      "cell_type": "markdown",
      "metadata": {
        "id": "vj7i5DPCHWf7"
      },
      "source": [
        "### Задача №2\n",
        "Реализуйте функцию для подсчета количества параметров в модели (вам может помочь `model.parameters()`).\n",
        "\n",
        "На вход она принимает модель, на выход возвращает одно число – количество параметров в модели. Для вашего удобства доступно несколько тестов ниже."
      ]
    },
    {
      "cell_type": "code",
      "execution_count": 12,
      "metadata": {
        "colab": {
          "base_uri": "https://localhost:8080/"
        },
        "id": "oM1NOpuBHWf7",
        "outputId": "7340fdd5-de87-448d-b13c-f7be90e653ce"
      },
      "outputs": [
        {
          "output_type": "stream",
          "name": "stdout",
          "text": [
            "Seems fine!\n"
          ]
        }
      ],
      "source": [
        "def count_parameters(model):\n",
        "    # your code here\n",
        "    # return integer number (None is just a placeholder)\n",
        "    j = 0\n",
        "    for param in list(model.parameters()):\n",
        "        j += np.prod(np.array(param.size()))\n",
        "    return int(j)\n",
        "\n",
        "\n",
        "# do not change the code in the block below\n",
        "# __________start of block__________\n",
        "small_model = nn.Linear(128, 256)\n",
        "assert count_parameters(small_model) == 128 * 256 + 256, 'Check the function'\n",
        "\n",
        "medium_model = nn.Sequential(*[nn.Linear(128, 32, bias=False), nn.ReLU(), nn.Linear(32, 10, bias=False)])\n",
        "assert count_parameters(medium_model) == 128 * 32 + 32 * 10, 'Check the function'\n",
        "print(\"Seems fine!\")\n",
        "# __________end of block__________"
      ]
    }
  ],
  "metadata": {
    "kernelspec": {
      "display_name": "Py3 Research",
      "language": "python",
      "name": "py3_research_kernel"
    },
    "language_info": {
      "codemirror_mode": {
        "name": "ipython",
        "version": 3
      },
      "file_extension": ".py",
      "mimetype": "text/x-python",
      "name": "python",
      "nbconvert_exporter": "python",
      "pygments_lexer": "ipython3",
      "version": "3.9.7"
    },
    "colab": {
      "provenance": []
    }
  },
  "nbformat": 4,
  "nbformat_minor": 0
}